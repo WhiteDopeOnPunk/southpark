{
 "cells": [
  {
   "cell_type": "code",
   "execution_count": 1,
   "id": "23a7a47d-40c9-4ce2-8e1d-069690edfed3",
   "metadata": {
    "execution": {
     "iopub.execute_input": "2022-05-14T01:36:16.450437Z",
     "iopub.status.busy": "2022-05-14T01:36:16.450181Z",
     "iopub.status.idle": "2022-05-14T01:36:16.755747Z",
     "shell.execute_reply": "2022-05-14T01:36:16.755387Z",
     "shell.execute_reply.started": "2022-05-14T01:36:16.450362Z"
    },
    "tags": []
   },
   "outputs": [
    {
     "name": "stdout",
     "output_type": "stream",
     "text": [
      "(78700, 5)\n"
     ]
    },
    {
     "data": {
      "text/html": [
       "<div>\n",
       "<style scoped>\n",
       "    .dataframe tbody tr th:only-of-type {\n",
       "        vertical-align: middle;\n",
       "    }\n",
       "\n",
       "    .dataframe tbody tr th {\n",
       "        vertical-align: top;\n",
       "    }\n",
       "\n",
       "    .dataframe thead th {\n",
       "        text-align: right;\n",
       "    }\n",
       "</style>\n",
       "<table border=\"1\" class=\"dataframe\">\n",
       "  <thead>\n",
       "    <tr style=\"text-align: right;\">\n",
       "      <th></th>\n",
       "      <th>character</th>\n",
       "      <th>text</th>\n",
       "      <th>episode_name</th>\n",
       "      <th>season_number</th>\n",
       "      <th>episode_number</th>\n",
       "    </tr>\n",
       "  </thead>\n",
       "  <tbody>\n",
       "    <tr>\n",
       "      <th>0</th>\n",
       "      <td>boys</td>\n",
       "      <td>school day school day teacher's golden ru</td>\n",
       "      <td>Cartman Gets an Anal Probe</td>\n",
       "      <td>1</td>\n",
       "      <td>1</td>\n",
       "    </tr>\n",
       "    <tr>\n",
       "      <th>1</th>\n",
       "      <td>kyle broflovski</td>\n",
       "      <td>ah damn it my little brother's trying to follo...</td>\n",
       "      <td>Cartman Gets an Anal Probe</td>\n",
       "      <td>1</td>\n",
       "      <td>1</td>\n",
       "    </tr>\n",
       "    <tr>\n",
       "      <th>2</th>\n",
       "      <td>ike broflovski</td>\n",
       "      <td>zeeponaner</td>\n",
       "      <td>Cartman Gets an Anal Probe</td>\n",
       "      <td>1</td>\n",
       "      <td>1</td>\n",
       "    </tr>\n",
       "    <tr>\n",
       "      <th>3</th>\n",
       "      <td>kyle</td>\n",
       "      <td>ike you can't come to school with me</td>\n",
       "      <td>Cartman Gets an Anal Probe</td>\n",
       "      <td>1</td>\n",
       "      <td>1</td>\n",
       "    </tr>\n",
       "    <tr>\n",
       "      <th>4</th>\n",
       "      <td>eric cartman</td>\n",
       "      <td>yeah go home you little dildo</td>\n",
       "      <td>Cartman Gets an Anal Probe</td>\n",
       "      <td>1</td>\n",
       "      <td>1</td>\n",
       "    </tr>\n",
       "  </tbody>\n",
       "</table>\n",
       "</div>"
      ],
      "text/plain": [
       "         character                                               text  \\\n",
       "0             boys          school day school day teacher's golden ru   \n",
       "1  kyle broflovski  ah damn it my little brother's trying to follo...   \n",
       "2   ike broflovski                                         zeeponaner   \n",
       "3             kyle               ike you can't come to school with me   \n",
       "4     eric cartman                      yeah go home you little dildo   \n",
       "\n",
       "                 episode_name  season_number  episode_number  \n",
       "0  Cartman Gets an Anal Probe              1               1  \n",
       "1  Cartman Gets an Anal Probe              1               1  \n",
       "2  Cartman Gets an Anal Probe              1               1  \n",
       "3  Cartman Gets an Anal Probe              1               1  \n",
       "4  Cartman Gets an Anal Probe              1               1  "
      ]
     },
     "execution_count": 1,
     "metadata": {},
     "output_type": "execute_result"
    }
   ],
   "source": [
    "import pandas as pd\n",
    "df = pd.read_csv('sp_lines.csv')\n",
    "print(df.shape)\n",
    "df.head()"
   ]
  },
  {
   "cell_type": "code",
   "execution_count": 2,
   "id": "2cc38b44-7b3a-4497-8595-a29e76084056",
   "metadata": {
    "execution": {
     "iopub.execute_input": "2022-05-14T01:36:16.756479Z",
     "iopub.status.busy": "2022-05-14T01:36:16.756360Z",
     "iopub.status.idle": "2022-05-14T01:36:16.764362Z",
     "shell.execute_reply": "2022-05-14T01:36:16.763987Z",
     "shell.execute_reply.started": "2022-05-14T01:36:16.756463Z"
    },
    "tags": []
   },
   "outputs": [
    {
     "data": {
      "text/html": [
       "<div>\n",
       "<style scoped>\n",
       "    .dataframe tbody tr th:only-of-type {\n",
       "        vertical-align: middle;\n",
       "    }\n",
       "\n",
       "    .dataframe tbody tr th {\n",
       "        vertical-align: top;\n",
       "    }\n",
       "\n",
       "    .dataframe thead th {\n",
       "        text-align: right;\n",
       "    }\n",
       "</style>\n",
       "<table border=\"1\" class=\"dataframe\">\n",
       "  <thead>\n",
       "    <tr style=\"text-align: right;\">\n",
       "      <th></th>\n",
       "      <th>name</th>\n",
       "      <th>line</th>\n",
       "    </tr>\n",
       "  </thead>\n",
       "  <tbody>\n",
       "    <tr>\n",
       "      <th>0</th>\n",
       "      <td>boys</td>\n",
       "      <td>school day school day teacher's golden ru</td>\n",
       "    </tr>\n",
       "    <tr>\n",
       "      <th>1</th>\n",
       "      <td>kyle broflovski</td>\n",
       "      <td>ah damn it my little brother's trying to follo...</td>\n",
       "    </tr>\n",
       "    <tr>\n",
       "      <th>2</th>\n",
       "      <td>ike broflovski</td>\n",
       "      <td>zeeponaner</td>\n",
       "    </tr>\n",
       "    <tr>\n",
       "      <th>3</th>\n",
       "      <td>kyle</td>\n",
       "      <td>ike you can't come to school with me</td>\n",
       "    </tr>\n",
       "    <tr>\n",
       "      <th>4</th>\n",
       "      <td>eric cartman</td>\n",
       "      <td>yeah go home you little dildo</td>\n",
       "    </tr>\n",
       "  </tbody>\n",
       "</table>\n",
       "</div>"
      ],
      "text/plain": [
       "              name                                               line\n",
       "0             boys          school day school day teacher's golden ru\n",
       "1  kyle broflovski  ah damn it my little brother's trying to follo...\n",
       "2   ike broflovski                                         zeeponaner\n",
       "3             kyle               ike you can't come to school with me\n",
       "4     eric cartman                      yeah go home you little dildo"
      ]
     },
     "execution_count": 2,
     "metadata": {},
     "output_type": "execute_result"
    }
   ],
   "source": [
    "train = df[['character', 'text']]\n",
    "train.columns = ['name','line']\n",
    "train.head()"
   ]
  },
  {
   "cell_type": "code",
   "execution_count": 3,
   "id": "7466b2a6-b579-4bac-a515-df4f040a7b27",
   "metadata": {
    "execution": {
     "iopub.execute_input": "2022-05-14T01:36:16.765395Z",
     "iopub.status.busy": "2022-05-14T01:36:16.765224Z",
     "iopub.status.idle": "2022-05-14T01:36:16.947239Z",
     "shell.execute_reply": "2022-05-14T01:36:16.946470Z",
     "shell.execute_reply.started": "2022-05-14T01:36:16.765378Z"
    },
    "tags": []
   },
   "outputs": [],
   "source": [
    "train.to_csv('train.csv',index=False)"
   ]
  }
 ],
 "metadata": {
  "kernelspec": {
   "display_name": "Python 3 (ipykernel)",
   "language": "python",
   "name": "python3"
  },
  "language_info": {
   "codemirror_mode": {
    "name": "ipython",
    "version": 3
   },
   "file_extension": ".py",
   "mimetype": "text/x-python",
   "name": "python",
   "nbconvert_exporter": "python",
   "pygments_lexer": "ipython3",
   "version": "3.10.4"
  }
 },
 "nbformat": 4,
 "nbformat_minor": 5
}
