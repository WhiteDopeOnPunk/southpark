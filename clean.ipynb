{
 "cells": [
  {
   "cell_type": "code",
   "execution_count": 1,
   "id": "23a7a47d-40c9-4ce2-8e1d-069690edfed3",
   "metadata": {
    "execution": {
     "iopub.execute_input": "2022-05-15T02:41:09.461759Z",
     "iopub.status.busy": "2022-05-15T02:41:09.461137Z",
     "iopub.status.idle": "2022-05-15T02:41:09.938097Z",
     "shell.execute_reply": "2022-05-15T02:41:09.937546Z",
     "shell.execute_reply.started": "2022-05-15T02:41:09.461680Z"
    },
    "tags": []
   },
   "outputs": [
    {
     "name": "stdout",
     "output_type": "stream",
     "text": [
      "(70896, 4)\n"
     ]
    },
    {
     "data": {
      "text/html": [
       "<div>\n",
       "<style scoped>\n",
       "    .dataframe tbody tr th:only-of-type {\n",
       "        vertical-align: middle;\n",
       "    }\n",
       "\n",
       "    .dataframe tbody tr th {\n",
       "        vertical-align: top;\n",
       "    }\n",
       "\n",
       "    .dataframe thead th {\n",
       "        text-align: right;\n",
       "    }\n",
       "</style>\n",
       "<table border=\"1\" class=\"dataframe\">\n",
       "  <thead>\n",
       "    <tr style=\"text-align: right;\">\n",
       "      <th></th>\n",
       "      <th>Season</th>\n",
       "      <th>Episode</th>\n",
       "      <th>Character</th>\n",
       "      <th>Line</th>\n",
       "    </tr>\n",
       "  </thead>\n",
       "  <tbody>\n",
       "    <tr>\n",
       "      <th>0</th>\n",
       "      <td>10</td>\n",
       "      <td>1</td>\n",
       "      <td>Stan</td>\n",
       "      <td>You guys, you guys! Chef is going away. \\n</td>\n",
       "    </tr>\n",
       "    <tr>\n",
       "      <th>1</th>\n",
       "      <td>10</td>\n",
       "      <td>1</td>\n",
       "      <td>Kyle</td>\n",
       "      <td>Going away? For how long?\\n</td>\n",
       "    </tr>\n",
       "    <tr>\n",
       "      <th>2</th>\n",
       "      <td>10</td>\n",
       "      <td>1</td>\n",
       "      <td>Stan</td>\n",
       "      <td>Forever.\\n</td>\n",
       "    </tr>\n",
       "    <tr>\n",
       "      <th>3</th>\n",
       "      <td>10</td>\n",
       "      <td>1</td>\n",
       "      <td>Chef</td>\n",
       "      <td>I'm sorry boys.\\n</td>\n",
       "    </tr>\n",
       "    <tr>\n",
       "      <th>4</th>\n",
       "      <td>10</td>\n",
       "      <td>1</td>\n",
       "      <td>Stan</td>\n",
       "      <td>Chef said he's been bored, so he joining a gro...</td>\n",
       "    </tr>\n",
       "  </tbody>\n",
       "</table>\n",
       "</div>"
      ],
      "text/plain": [
       "  Season Episode Character                                               Line\n",
       "0     10       1      Stan         You guys, you guys! Chef is going away. \\n\n",
       "1     10       1      Kyle                        Going away? For how long?\\n\n",
       "2     10       1      Stan                                         Forever.\\n\n",
       "3     10       1      Chef                                  I'm sorry boys.\\n\n",
       "4     10       1      Stan  Chef said he's been bored, so he joining a gro..."
      ]
     },
     "execution_count": 1,
     "metadata": {},
     "output_type": "execute_result"
    }
   ],
   "source": [
    "import pandas as pd\n",
    "df = pd.read_csv('All-seasons.csv')\n",
    "print(df.shape)\n",
    "df.head()"
   ]
  },
  {
   "cell_type": "code",
   "execution_count": 8,
   "id": "cd058417-a7b1-408f-a6b8-d02c114b380d",
   "metadata": {
    "execution": {
     "iopub.execute_input": "2022-05-15T02:43:55.734393Z",
     "iopub.status.busy": "2022-05-15T02:43:55.734105Z",
     "iopub.status.idle": "2022-05-15T02:43:55.744477Z",
     "shell.execute_reply": "2022-05-15T02:43:55.743953Z",
     "shell.execute_reply.started": "2022-05-15T02:43:55.734366Z"
    },
    "tags": []
   },
   "outputs": [
    {
     "data": {
      "text/plain": [
       "2         6416\n",
       "3         5798\n",
       "4         5680\n",
       "6         5131\n",
       "5         4414\n",
       "7         4236\n",
       "1         4170\n",
       "8         3601\n",
       "9         3526\n",
       "11        3478\n",
       "10        3471\n",
       "14        3346\n",
       "12        3307\n",
       "13        3257\n",
       "16        3120\n",
       "15        3101\n",
       "18        2522\n",
       "17        2305\n",
       "Season      17\n",
       "Name: Season, dtype: int64"
      ]
     },
     "execution_count": 8,
     "metadata": {},
     "output_type": "execute_result"
    }
   ],
   "source": [
    "df.Season.value_counts()"
   ]
  },
  {
   "cell_type": "code",
   "execution_count": 45,
   "id": "2c267ff5-a11a-426b-9034-8ee776b800e7",
   "metadata": {
    "execution": {
     "iopub.execute_input": "2022-05-14T22:50:55.770111Z",
     "iopub.status.busy": "2022-05-14T22:50:55.769615Z",
     "iopub.status.idle": "2022-05-14T22:50:55.798369Z",
     "shell.execute_reply": "2022-05-14T22:50:55.797525Z",
     "shell.execute_reply.started": "2022-05-14T22:50:55.770087Z"
    },
    "tags": []
   },
   "outputs": [],
   "source": [
    "cleanlines = pd.Series([cell.replace('\\n','').strip() for cell in df.Line])"
   ]
  },
  {
   "cell_type": "code",
   "execution_count": 47,
   "id": "4c22081b-e255-45b5-a2f5-ea4376b26434",
   "metadata": {
    "execution": {
     "iopub.execute_input": "2022-05-14T22:51:14.294219Z",
     "iopub.status.busy": "2022-05-14T22:51:14.293775Z",
     "iopub.status.idle": "2022-05-14T22:51:14.298857Z",
     "shell.execute_reply": "2022-05-14T22:51:14.298301Z",
     "shell.execute_reply.started": "2022-05-14T22:51:14.294196Z"
    },
    "tags": []
   },
   "outputs": [
    {
     "data": {
      "text/plain": [
       "0                  You guys, you guys! Chef is going away.\n",
       "1                                Going away? For how long?\n",
       "2                                                 Forever.\n",
       "3                                          I'm sorry boys.\n",
       "4        Chef said he's been bored, so he joining a gro...\n",
       "                               ...                        \n",
       "70891                           I think you're pushing it.\n",
       "70892                                    How about twenty?\n",
       "70893                               That's not disciprine.\n",
       "70894                       Right right. Does vodka count?\n",
       "70895                                                 Dad!\n",
       "Length: 70896, dtype: object"
      ]
     },
     "execution_count": 47,
     "metadata": {},
     "output_type": "execute_result"
    }
   ],
   "source": [
    "cleanlines"
   ]
  },
  {
   "cell_type": "code",
   "execution_count": 69,
   "id": "993a4b52-e98b-494f-a48c-d4adbd57f510",
   "metadata": {
    "execution": {
     "iopub.execute_input": "2022-05-14T22:57:46.119234Z",
     "iopub.status.busy": "2022-05-14T22:57:46.119008Z",
     "iopub.status.idle": "2022-05-14T22:57:46.125454Z",
     "shell.execute_reply": "2022-05-14T22:57:46.124821Z",
     "shell.execute_reply.started": "2022-05-14T22:57:46.119209Z"
    },
    "tags": []
   },
   "outputs": [],
   "source": [
    "train = pd.DataFrame(df.Character)\n",
    "train['line'] = cleanlines\n",
    "train.columns = ['name','line']"
   ]
  },
  {
   "cell_type": "code",
   "execution_count": 70,
   "id": "148a5ba3-4918-4421-a19a-68a84251cd7b",
   "metadata": {
    "execution": {
     "iopub.execute_input": "2022-05-14T22:57:46.801060Z",
     "iopub.status.busy": "2022-05-14T22:57:46.800819Z",
     "iopub.status.idle": "2022-05-14T22:57:46.808817Z",
     "shell.execute_reply": "2022-05-14T22:57:46.808140Z",
     "shell.execute_reply.started": "2022-05-14T22:57:46.801035Z"
    },
    "tags": []
   },
   "outputs": [
    {
     "data": {
      "text/html": [
       "<div>\n",
       "<style scoped>\n",
       "    .dataframe tbody tr th:only-of-type {\n",
       "        vertical-align: middle;\n",
       "    }\n",
       "\n",
       "    .dataframe tbody tr th {\n",
       "        vertical-align: top;\n",
       "    }\n",
       "\n",
       "    .dataframe thead th {\n",
       "        text-align: right;\n",
       "    }\n",
       "</style>\n",
       "<table border=\"1\" class=\"dataframe\">\n",
       "  <thead>\n",
       "    <tr style=\"text-align: right;\">\n",
       "      <th></th>\n",
       "      <th>name</th>\n",
       "      <th>line</th>\n",
       "    </tr>\n",
       "  </thead>\n",
       "  <tbody>\n",
       "    <tr>\n",
       "      <th>0</th>\n",
       "      <td>Stan</td>\n",
       "      <td>You guys, you guys! Chef is going away.</td>\n",
       "    </tr>\n",
       "    <tr>\n",
       "      <th>1</th>\n",
       "      <td>Kyle</td>\n",
       "      <td>Going away? For how long?</td>\n",
       "    </tr>\n",
       "    <tr>\n",
       "      <th>2</th>\n",
       "      <td>Stan</td>\n",
       "      <td>Forever.</td>\n",
       "    </tr>\n",
       "    <tr>\n",
       "      <th>3</th>\n",
       "      <td>Chef</td>\n",
       "      <td>I'm sorry boys.</td>\n",
       "    </tr>\n",
       "    <tr>\n",
       "      <th>4</th>\n",
       "      <td>Stan</td>\n",
       "      <td>Chef said he's been bored, so he joining a gro...</td>\n",
       "    </tr>\n",
       "  </tbody>\n",
       "</table>\n",
       "</div>"
      ],
      "text/plain": [
       "   name                                               line\n",
       "0  Stan            You guys, you guys! Chef is going away.\n",
       "1  Kyle                          Going away? For how long?\n",
       "2  Stan                                           Forever.\n",
       "3  Chef                                    I'm sorry boys.\n",
       "4  Stan  Chef said he's been bored, so he joining a gro..."
      ]
     },
     "execution_count": 70,
     "metadata": {},
     "output_type": "execute_result"
    }
   ],
   "source": [
    "train.head()"
   ]
  },
  {
   "cell_type": "code",
   "execution_count": 71,
   "id": "7466b2a6-b579-4bac-a515-df4f040a7b27",
   "metadata": {
    "execution": {
     "iopub.execute_input": "2022-05-14T22:58:17.621620Z",
     "iopub.status.busy": "2022-05-14T22:58:17.621341Z",
     "iopub.status.idle": "2022-05-14T22:58:17.818773Z",
     "shell.execute_reply": "2022-05-14T22:58:17.818323Z",
     "shell.execute_reply.started": "2022-05-14T22:58:17.621593Z"
    },
    "tags": []
   },
   "outputs": [],
   "source": [
    "train.to_csv('train.csv',index=False)"
   ]
  },
  {
   "cell_type": "code",
   "execution_count": null,
   "id": "49451b1f-f28c-4200-adf7-ea9d947e6e4e",
   "metadata": {},
   "outputs": [],
   "source": []
  }
 ],
 "metadata": {
  "kernelspec": {
   "display_name": "Python 3 (ipykernel)",
   "language": "python",
   "name": "python3"
  },
  "language_info": {
   "codemirror_mode": {
    "name": "ipython",
    "version": 3
   },
   "file_extension": ".py",
   "mimetype": "text/x-python",
   "name": "python",
   "nbconvert_exporter": "python",
   "pygments_lexer": "ipython3",
   "version": "3.10.4"
  }
 },
 "nbformat": 4,
 "nbformat_minor": 5
}
